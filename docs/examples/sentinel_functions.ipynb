{
    "cells": [
        {
            "attachments": {},
            "cell_type": "markdown",
            "metadata": {},
            "source": [
                "# Sentinel Functions\n",
                "\n",
                "With this module we can scale the values of SR image from Sentinel-2 image collection and mask their clouds"
            ]
        },
        {
            "cell_type": "code",
            "execution_count": 1,
            "metadata": {},
            "outputs": [],
            "source": [
                "import ee\n",
                "from IPython.display import Image\n",
                "from statgis.gee.sentinel_functions import cloud_mask, scaler\n",
                "\n",
                "ee.Initialize()"
            ]
        },
        {
            "attachments": {},
            "cell_type": "markdown",
            "metadata": {},
            "source": [
                "Define the region of interest"
            ]
        },
        {
            "cell_type": "code",
            "execution_count": 2,
            "metadata": {},
            "outputs": [
                {
                    "data": {
                        "text/plain": [
                            "4076535807.291905"
                        ]
                    },
                    "execution_count": 2,
                    "metadata": {},
                    "output_type": "execute_result"
                }
            ],
            "source": [
                "coords = [-73.452, -37.093, -72.727, -36.525]\n",
                "\n",
                "roi = ee.Geometry.BBox(*coords)\n",
                "roi.area(10).getInfo()"
            ]
        },
        {
            "attachments": {},
            "cell_type": "markdown",
            "metadata": {},
            "source": [
                "We will mask the clouds and scale the values to SR in all images from Landsat 8 in the region of interest"
            ]
        },
        {
            "cell_type": "code",
            "execution_count": 3,
            "metadata": {},
            "outputs": [
                {
                    "data": {
                        "text/plain": [
                            "['B1', 'B2', 'B3', 'B4', 'B5', 'B6', 'B7', 'B8', 'B8A', 'B9', 'B11', 'B12']"
                        ]
                    },
                    "execution_count": 3,
                    "metadata": {},
                    "output_type": "execute_result"
                }
            ],
            "source": [
                "img = (\n",
                "    ee.ImageCollection(\"COPERNICUS/S2_SR_HARMONIZED\")\n",
                "      .filterBounds(roi)\n",
                "      .filter(ee.Filter.lte(\"CLOUDY_PIXEL_PERCENTAGE\", 20))\n",
                "      .map(cloud_mask)\n",
                "      .map(scaler)\n",
                "      .median()\n",
                ")\n",
                "\n",
                "# Show all reflectance bands\n",
                "[band[\"id\"] for band in img.getInfo()[\"bands\"] if band[\"id\"][0] == \"B\"]"
            ]
        },
        {
            "attachments": {},
            "cell_type": "markdown",
            "metadata": {},
            "source": [
                "Now we can see the results"
            ]
        },
        {
            "cell_type": "code",
            "execution_count": 4,
            "metadata": {},
            "outputs": [
                {
                    "data": {
                        "text/html": [
                            "<img src=\"https://earthengine.googleapis.com/v1alpha/projects/earthengine-legacy/thumbnails/5cee42fa71e0365e79c627cc45248114-34e1f8394b426cc558c3b6c451975697:getPixels\"/>"
                        ],
                        "text/plain": [
                            "<IPython.core.display.Image object>"
                        ]
                    },
                    "execution_count": 4,
                    "metadata": {},
                    "output_type": "execute_result"
                }
            ],
            "source": [
                "vis = {\n",
                "    \"bands\": [f\"B{i}\" for i in \"432\"],\n",
                "    \"min\": 0.0,\n",
                "    \"max\": 0.3,\n",
                "    \"region\": roi,\n",
                "    \"dimensions\": 512,\n",
                "}\n",
                "\n",
                "url = img.getThumbURL(vis)\n",
                "Image(url=url)"
            ]
        }
    ],
    "metadata": {
        "kernelspec": {
            "display_name": "env",
            "language": "python",
            "name": "python3"
        },
        "language_info": {
            "codemirror_mode": {
                "name": "ipython",
                "version": 3
            },
            "file_extension": ".py",
            "mimetype": "text/x-python",
            "name": "python",
            "nbconvert_exporter": "python",
            "pygments_lexer": "ipython3",
            "version": "3.11.1 (tags/v3.11.1:a7a450f, Dec  6 2022, 19:58:39) [MSC v.1934 64 bit (AMD64)]"
        },
        "vscode": {
            "interpreter": {
                "hash": "7f38260c68308e3d2b3da1d8783c28612368a3d4c65cc1db7b6e1d8a04f2995c"
            }
        }
    },
    "nbformat": 4,
    "nbformat_minor": 4
}
