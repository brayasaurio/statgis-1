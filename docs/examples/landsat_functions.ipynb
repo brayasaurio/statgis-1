{
    "cells": [
        {
            "attachments": {},
            "cell_type": "markdown",
            "metadata": {},
            "source": [
                "# Landsat Functions\n",
                "\n",
                "With this module we can scale the values of SR image from Landsat image collection and mask the clouds"
            ]
        },
        {
            "cell_type": "code",
            "execution_count": 1,
            "metadata": {},
            "outputs": [],
            "source": [
                "import ee\n",
                "from IPython.display import Image\n",
                "from statgis.gee.landsat_functions import cloud_mask, scaler\n",
                "\n",
                "ee.Initialize()"
            ]
        },
        {
            "attachments": {},
            "cell_type": "markdown",
            "metadata": {},
            "source": [
                "Define the region of interest"
            ]
        },
        {
            "cell_type": "code",
            "execution_count": 2,
            "metadata": {},
            "outputs": [
                {
                    "data": {
                        "text/plain": [
                            "65608381135.76813"
                        ]
                    },
                    "execution_count": 2,
                    "metadata": {},
                    "output_type": "execute_result"
                }
            ],
            "source": [
                "coords = [-70.025, -55.409, -65.487, -53.400]\n",
                "\n",
                "roi = ee.Geometry.BBox(*coords)\n",
                "roi.area(30).getInfo()"
            ]
        },
        {
            "attachments": {},
            "cell_type": "markdown",
            "metadata": {},
            "source": [
                "We will mask the clouds and scale the values to SR (`scaler` also scale the temperature bands to Kelvin) in all images from Landsat 8 in the region of interest"
            ]
        },
        {
            "cell_type": "code",
            "execution_count": 3,
            "metadata": {},
            "outputs": [
                {
                    "data": {
                        "text/plain": [
                            "['SR_B1',\n",
                            " 'SR_B2',\n",
                            " 'SR_B3',\n",
                            " 'SR_B4',\n",
                            " 'SR_B5',\n",
                            " 'SR_B6',\n",
                            " 'SR_B7',\n",
                            " 'SR_QA_AEROSOL']"
                        ]
                    },
                    "execution_count": 3,
                    "metadata": {},
                    "output_type": "execute_result"
                }
            ],
            "source": [
                "img = (\n",
                "    ee.ImageCollection(\"LANDSAT/LC08/C02/T1_L2\")\n",
                "      .filterBounds(roi)\n",
                "      .map(cloud_mask)\n",
                "      .map(scaler)\n",
                "      .median()\n",
                ")\n",
                "\n",
                "# Show all reflectance bands\n",
                "[band[\"id\"] for band in img.getInfo()[\"bands\"] if band[\"id\"][:2] == \"SR\"]"
            ]
        },
        {
            "attachments": {},
            "cell_type": "markdown",
            "metadata": {},
            "source": [
                "Now we can see the results"
            ]
        },
        {
            "cell_type": "code",
            "execution_count": 4,
            "metadata": {},
            "outputs": [
                {
                    "data": {
                        "text/html": [
                            "<img src=\"https://earthengine.googleapis.com/v1alpha/projects/earthengine-legacy/thumbnails/30c44da1aa22a349eaa458a7807db00f-36b3e65e4b3d32f291f67e90096d31d8:getPixels\"/>"
                        ],
                        "text/plain": [
                            "<IPython.core.display.Image object>"
                        ]
                    },
                    "execution_count": 4,
                    "metadata": {},
                    "output_type": "execute_result"
                }
            ],
            "source": [
                "vis = {\n",
                "    \"bands\": [f\"SR_B{i}\" for i in \"432\"],\n",
                "    \"min\": 0.0,\n",
                "    \"max\": 0.3,\n",
                "    \"region\": roi,\n",
                "    \"dimensions\": 512,\n",
                "}\n",
                "\n",
                "url = img.getThumbURL(vis)\n",
                "Image(url=url)"
            ]
        }
    ],
    "metadata": {
        "kernelspec": {
            "display_name": "env",
            "language": "python",
            "name": "python3"
        },
        "language_info": {
            "codemirror_mode": {
                "name": "ipython",
                "version": 3
            },
            "file_extension": ".py",
            "mimetype": "text/x-python",
            "name": "python",
            "nbconvert_exporter": "python",
            "pygments_lexer": "ipython3",
            "version": "3.11.1 (tags/v3.11.1:a7a450f, Dec  6 2022, 19:58:39) [MSC v.1934 64 bit (AMD64)]"
        },
        "vscode": {
            "interpreter": {
                "hash": "7f38260c68308e3d2b3da1d8783c28612368a3d4c65cc1db7b6e1d8a04f2995c"
            }
        }
    },
    "nbformat": 4,
    "nbformat_minor": 4
}
